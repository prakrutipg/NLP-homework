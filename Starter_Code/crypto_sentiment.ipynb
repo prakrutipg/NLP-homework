{
 "cells": [
  {
   "cell_type": "markdown",
   "metadata": {},
   "source": [
    "# Unit 12 - Tales from the Crypto\n",
    "\n",
    "---\n"
   ]
  },
  {
   "cell_type": "markdown",
   "metadata": {},
   "source": [
    "## 1. Sentiment Analysis\n",
    "\n",
    "Use the [newsapi](https://newsapi.org/) to pull the latest news articles for Bitcoin and Ethereum and create a DataFrame of sentiment scores for each coin.\n",
    "\n",
    "Use descriptive statistics to answer the following questions:\n",
    "1. Which coin had the highest mean positive score?\n",
    "2. Which coin had the highest negative score?\n",
    "3. Which coin had the highest positive score?"
   ]
  },
  {
   "cell_type": "code",
   "execution_count": null,
   "metadata": {},
   "outputs": [],
   "source": [
    "# Initial imports\n",
    "import os\n",
    "import pandas as pd\n",
    "from dotenv import load_dotenv\n",
    "import nltk as nltk\n",
    "nltk.download('vader_lexicon')\n",
    "from nltk.sentiment.vader import SentimentIntensityAnalyzer\n",
    "analyzer = SentimentIntensityAnalyzer()\n",
    "\n",
    "%matplotlib inline"
   ]
  },
  {
   "cell_type": "code",
   "execution_count": null,
   "metadata": {},
   "outputs": [],
   "source": [
    "# Read your api key environment variable\n",
    "\n",
    "from newsapi.newsapi_client import NewsApiClient\n",
    "api_key = os.getenv('news_api')"
   ]
  },
  {
   "cell_type": "code",
   "execution_count": null,
   "metadata": {},
   "outputs": [],
   "source": [
    "# Create a newsapi client\n",
    "\n",
    "newsapi = NewsApiClient(api_key=api_key)"
   ]
  },
  {
   "cell_type": "code",
   "execution_count": null,
   "metadata": {},
   "outputs": [],
   "source": [
    "# Fetch the Bitcoin news articles\n",
    "\n",
    "bitcoin_news_articles = newsapi.get_everything(q = 'bitcoin', language = 'en', sort_by = 'relevancy')"
   ]
  },
  {
   "cell_type": "code",
   "execution_count": null,
   "metadata": {},
   "outputs": [],
   "source": [
    "# Fetch the Ethereum news articles\n",
    "\n",
    "ethereum_news_articles = newsapi.get_everything(q = 'ethereum', language = 'en', sort_by = 'relevancy')"
   ]
  },
  {
   "cell_type": "code",
   "execution_count": null,
   "metadata": {},
   "outputs": [],
   "source": [
    "# Create the Bitcoin sentiment scores DataFrame\n",
    "bitcoin_sentiment = []\n",
    "\n",
    "for news in bitcoin_news_articles['articles']:\n",
    "    try:\n",
    "        text = news['content']\n",
    "        date = news['publishedAt'][:10]\n",
    "        sentiment = analyzer.polarity_scores(text)\n",
    "        compound = sentiment['compound']\n",
    "        positive = sentiment['positive']\n",
    "        negative = sentiment['negative']\n",
    "        neutral = sentiment['neutral']\n",
    "\n",
    "        bitcoin_sentiment.append({\n",
    "            'text': text,\n",
    "            'date': date\n",
    "            'compound': compound,\n",
    "            'positive': positive,\n",
    "            'negative': negative,\n",
    "            'neutral': neutral\n",
    "        })\n",
    "    \n",
    "    except AttributeError:\n",
    "        passtext= news['content']\n",
    "        date= news['publishedAt'][:10]\n",
    "        sentiment = analyzer.polarity_scores(text)\n",
    "        compound = sentiment['compound']\n",
    "        positive = sentiment['positive']\n",
    "        negative = sentiment['negative']\n",
    "        neutral = sentiment['neutral']\n",
    "        \n",
    "        bitcoin_sentiment.append({\n",
    "            'text': text,\n",
    "            'date': date\n",
    "            'compound': compound,\n",
    "            'positive': positive,\n",
    "            'negative': negative,\n",
    "            'neutral': neutral\n",
    "        })\n",
    "\n",
    "    except AttributeError:\n",
    "        pass"
   ]
  },
  {
   "cell_type": "code",
   "execution_count": null,
   "metadata": {},
   "outputs": [],
   "source": [
    "# Create the Ethereum sentiment scores DataFrame\n",
    "ethereum_sentiment = []\n",
    "\n",
    "for news in ethereum_news_articles['articles']:\n",
    "    try:\n",
    "        text= news['content']\n",
    "        date = news['publishedAt'][:10]\n",
    "        sentiment = analyzer.polarity_scores(text)\n",
    "        compound = sentiment['compound']\n",
    "        positive = sentiment['positive']\n",
    "        negative = sentiment['negative']\n",
    "        neutral = sentiment['neutral']\n",
    "\n",
    "        ethereum_sentiment.append({\n",
    "            'text': text,\n",
    "            'date': date\n",
    "            'compound': compound,\n",
    "            'positive': positive,\n",
    "            'negative': negative,\n",
    "            'neutral': neutral\n",
    "        })\n",
    "    \n",
    "    except AttributeError:\n",
    "        passtext= news['content']\n",
    "        date= news['publishedAt'][:10]\n",
    "        sentiment = analyzer.polarity_scores(text)\n",
    "        compound = sentiment['compound']\n",
    "        positive = sentiment['positive']\n",
    "        negative = sentiment['negative']\n",
    "        neutral = sentiment['neutral']\n",
    "        \n",
    "        ethereum_sentiment.append({\n",
    "            'text': text,\n",
    "            'date': date\n",
    "            'compound': compound,\n",
    "            'positive': positive,\n",
    "            'negative': negative,\n",
    "            'neutral': neutral\n",
    "        })\n",
    "\n",
    "    except AttributeError:\n",
    "        pass"
   ]
  },
  {
   "cell_type": "code",
   "execution_count": null,
   "metadata": {},
   "outputs": [],
   "source": [
    "# Describe the Bitcoin Sentiment\n",
    "\n",
    "bitcoin_news_articles_df = pd.DataFrame(bitcoin_sentiment, columns=['text', 'date', 'compound', 'positive', 'negative', 'neutral'])\n",
    "bitcoin_news_articles_df.head()"
   ]
  },
  {
   "cell_type": "code",
   "execution_count": null,
   "metadata": {},
   "outputs": [],
   "source": [
    "# Describe the Ethereum Sentiment\n",
    "\n",
    "ethereum_news_articles_df = pd.DataFrame(ethereum_sentiment, columns=['text', 'date', 'compound', 'positive', 'negative', 'neutral'])\n",
    "ethereum_news_articles_df.head()"
   ]
  },
  {
   "cell_type": "markdown",
   "metadata": {},
   "source": [
    "### Questions:\n",
    "\n",
    "Q: Which coin had the highest mean positive score?\n",
    "\n",
    "A: \n",
    "\n",
    "Q: Which coin had the highest compound score?\n",
    "\n",
    "A: \n",
    "\n",
    "Q. Which coin had the highest positive score?\n",
    "\n",
    "A: "
   ]
  },
  {
   "cell_type": "markdown",
   "metadata": {},
   "source": [
    "---"
   ]
  },
  {
   "cell_type": "markdown",
   "metadata": {},
   "source": [
    "## 2. Natural Language Processing\n",
    "---\n",
    "###   Tokenizer\n",
    "\n",
    "In this section, you will use NLTK and Python to tokenize the text for each coin. Be sure to:\n",
    "1. Lowercase each word.\n",
    "2. Remove Punctuation.\n",
    "3. Remove Stopwords."
   ]
  },
  {
   "cell_type": "code",
   "execution_count": null,
   "metadata": {},
   "outputs": [],
   "source": [
    "from nltk.tokenize import word_tokenize, sent_tokenize\n",
    "from nltk.corpus import stopwords\n",
    "from nltk.stem import WordNetLemmatizer, PorterStemmer\n",
    "from string import punctuation\n",
    "import re"
   ]
  },
  {
   "cell_type": "code",
   "execution_count": null,
   "metadata": {},
   "outputs": [],
   "source": [
    "# Instantiate the lemmatizer\n",
    "\n",
    "lemmatizer = WordNetLemmatizer()\n",
    "\n",
    "# Create a list of stopwords\n",
    "\n",
    "sw = set(stopwords.words('english'))\n",
    "\n",
    "# Expand the default stopwords list if necessary\n",
    "\n",
    "sw_expand = {'ha', 'u', 'say'}"
   ]
  },
  {
   "cell_type": "code",
   "execution_count": null,
   "metadata": {},
   "outputs": [],
   "source": [
    "# Complete the tokenizer function\n",
    "# Remove the punctuation from text\n",
    "# Create a tokenized list of the words\n",
    "# Lemmatize words into root words\n",
    "# Convert the words to lowercase\n",
    "# Remove the stop words\n",
    "    \n",
    "def tokenizer(text):\n",
    "    sw = set(stopwords.words('english'))\n",
    "    regex = re.compile(\"[^a-zA-Z ]\")\n",
    "    re_clean = regex.sub('', doc)\n",
    "    words = word_tokenize(re_clean)\n",
    "    lem = [lemmatizer.lemmatize(word) for word in words]\n",
    "    tokens = [word.lower() for word in lem if word.lower() not in sw]    \n",
    "    return tokens\n"
   ]
  },
  {
   "cell_type": "code",
   "execution_count": null,
   "metadata": {},
   "outputs": [],
   "source": [
    "# Create a new tokens column for Bitcoin\n",
    "\n",
    "bitcoin_tokens = []\n",
    "for text in bitcoin_news_articles_df.text:\n",
    "    words = []\n",
    "    words = words + tokenizer(text)\n",
    "    bitcoin_tokens.append(words)\n",
    "bitcoin_news_articles_df['tokens'] = bitcoin_tokens\n",
    "\n",
    "bitcoin_news_articles_df.head()"
   ]
  },
  {
   "cell_type": "code",
   "execution_count": null,
   "metadata": {},
   "outputs": [],
   "source": [
    "# Create a new tokens column for Ethereum\n",
    "\n",
    "ethereum_tokens = []\n",
    "for text in ethereum_news_articles_df.text:\n",
    "    words = []\n",
    "    words = words + tokenizer(text)\n",
    "    bitcoin_tokens.append(words)\n",
    "ethereum_news_articles_df['tokens'] = bitcoin_tokens\n",
    "\n",
    "ethereum_news_articles_df.head()"
   ]
  },
  {
   "cell_type": "markdown",
   "metadata": {},
   "source": [
    "---"
   ]
  },
  {
   "cell_type": "markdown",
   "metadata": {},
   "source": [
    "### NGrams and Frequency Analysis\n",
    "\n",
    "In this section you will look at the ngrams and word frequency for each coin. \n",
    "\n",
    "1. Use NLTK to produce the n-grams for N = 2. \n",
    "2. List the top 10 words for each coin. "
   ]
  },
  {
   "cell_type": "code",
   "execution_count": null,
   "metadata": {},
   "outputs": [],
   "source": [
    "from collections import Counter\n",
    "from nltk import ngrams"
   ]
  },
  {
   "cell_type": "code",
   "execution_count": null,
   "metadata": {},
   "outputs": [],
   "source": [
    "# Generate the Bitcoin N-grams where N=2\n",
    "\n",
    "bitcoin_counter = Counter(ngrams(bitcoin_tokens, n=2))"
   ]
  },
  {
   "cell_type": "code",
   "execution_count": null,
   "metadata": {},
   "outputs": [],
   "source": [
    "# Generate the Ethereum N-grams where N=2\n",
    "\n",
    "ethereum_counter = Counter(ngrams(ethereum_tokens, n=2))"
   ]
  },
  {
   "cell_type": "code",
   "execution_count": null,
   "metadata": {},
   "outputs": [],
   "source": [
    "# Function token_count generates the top 10 words for a given coin\n",
    "def token_count(tokens, N=3):\n",
    "    top_n = dict(Counter(tokens).most_common(10))\n",
    "    return Counter(tokens).most_common(N)"
   ]
  },
  {
   "cell_type": "code",
   "execution_count": null,
   "metadata": {},
   "outputs": [],
   "source": [
    "# Use token_count to get the top 10 words for Bitcoin\n",
    "\n",
    "token_count(bitcoin_counter)"
   ]
  },
  {
   "cell_type": "code",
   "execution_count": null,
   "metadata": {},
   "outputs": [],
   "source": [
    "# Use token_count to get the top 10 words for Ethereum\n",
    "\n",
    "token_count(ethereum_counter)"
   ]
  },
  {
   "cell_type": "markdown",
   "metadata": {},
   "source": [
    "---"
   ]
  },
  {
   "cell_type": "markdown",
   "metadata": {},
   "source": [
    "### Word Clouds\n",
    "\n",
    "In this section, you will generate word clouds for each coin to summarize the news for each coin"
   ]
  },
  {
   "cell_type": "code",
   "execution_count": null,
   "metadata": {},
   "outputs": [],
   "source": [
    "from wordcloud import WordCloud\n",
    "import matplotlib.pyplot as plt\n",
    "plt.style.use('seaborn-whitegrid')\n",
    "import matplotlib as mpl\n",
    "mpl.rcParams['figure.figsize'] = [20.0, 10.0]"
   ]
  },
  {
   "cell_type": "code",
   "execution_count": null,
   "metadata": {},
   "outputs": [],
   "source": [
    "# Generate the Bitcoin word cloud\n",
    "\n",
    "bitcoin_string = ' '.join([str(words) for word in bitcoin_tokens])\n",
    "bitcoin_wc = WordCloud().generate(bitcoin_string)\n",
    "plt.imshow(bitcoin_wc)"
   ]
  },
  {
   "cell_type": "code",
   "execution_count": null,
   "metadata": {},
   "outputs": [],
   "source": [
    "# Generate the Ethereum word cloud\n",
    "\n",
    "ethereum_string = ' '.join([str(words) for word in ethereum_tokens])\n",
    "ethereum_wc = WordCloud().generate(ethereum_string)\n",
    "plt.imshow(ethereum_wc)"
   ]
  },
  {
   "cell_type": "markdown",
   "metadata": {},
   "source": [
    "---\n",
    "## 3. Named Entity Recognition\n",
    "\n",
    "In this section, you will build a named entity recognition model for both Bitcoin and Ethereum, then visualize the tags using SpaCy."
   ]
  },
  {
   "cell_type": "code",
   "execution_count": null,
   "metadata": {},
   "outputs": [],
   "source": [
    "import spacy\n",
    "from spacy import displacy"
   ]
  },
  {
   "cell_type": "code",
   "execution_count": null,
   "metadata": {},
   "outputs": [],
   "source": [
    "# Download the language model for SpaCy\n",
    "# !python -m spacy download en_core_web_sm"
   ]
  },
  {
   "cell_type": "code",
   "execution_count": null,
   "metadata": {},
   "outputs": [],
   "source": [
    "# Load the spaCy model\n",
    "nlp = spacy.load('en_core_web_sm')"
   ]
  },
  {
   "cell_type": "markdown",
   "metadata": {},
   "source": [
    "---\n",
    "### Bitcoin NER"
   ]
  },
  {
   "cell_type": "code",
   "execution_count": null,
   "metadata": {},
   "outputs": [],
   "source": [
    "# Concatenate all of the Bitcoin text together\n",
    "\n",
    "all_bitcoin_text = []\n",
    "for text in bitcoin_news_articles_df.text:\n",
    "    all_bitcoin_text.append(text)"
   ]
  },
  {
   "cell_type": "code",
   "execution_count": null,
   "metadata": {},
   "outputs": [],
   "source": [
    "# Run the NER processor on all of the text\n",
    "\n",
    "bitcoin_ner = nlp(all_bitcoin_text)\n",
    "\n",
    "# Add a title to the document\n",
    "\n",
    "bitcoin_ner.user_data['title'] = 'Bitcoin NER'"
   ]
  },
  {
   "cell_type": "code",
   "execution_count": null,
   "metadata": {},
   "outputs": [],
   "source": [
    "# Render the visualization\n",
    "\n",
    "displacy.render(bitcoin_ner, style='ent')"
   ]
  },
  {
   "cell_type": "code",
   "execution_count": null,
   "metadata": {},
   "outputs": [],
   "source": [
    "# List all Entities\n",
    "\n",
    "entities = []\n",
    "entities_text = []\n",
    "\n",
    "for ent in bitcoin_ner.ents:\n",
    "    entities_text.append(ent.label_)\n",
    "    entities.append(ent.text)\n",
    "\n",
    "bitcoin_entities = pd.DataFrame([entities, entities_text]).T\n",
    "bitcoin_entities.columns = ['Word', 'Entities']\n",
    "bitcoin_entities"
   ]
  },
  {
   "cell_type": "markdown",
   "metadata": {},
   "source": [
    "---"
   ]
  },
  {
   "cell_type": "markdown",
   "metadata": {},
   "source": [
    "### Ethereum NER"
   ]
  },
  {
   "cell_type": "code",
   "execution_count": null,
   "metadata": {},
   "outputs": [],
   "source": [
    "# Concatenate all of the Ethereum text together\n",
    "\n",
    "all_ethereum_text = []\n",
    "for text in ethereum_news_articles_df.text:\n",
    "    all_ethereum_text.append(text)"
   ]
  },
  {
   "cell_type": "code",
   "execution_count": null,
   "metadata": {},
   "outputs": [],
   "source": [
    "# Run the NER processor on all of the text\n",
    "\n",
    "ethereum_ner = nlp(all_ethereum_text)\n",
    "\n",
    "# Add a title to the document\n",
    "\n",
    "ethereum_ner.user_data['title'] = 'Ethereum NER'\n"
   ]
  },
  {
   "cell_type": "code",
   "execution_count": null,
   "metadata": {},
   "outputs": [],
   "source": [
    "# Render the visualization\n",
    "\n",
    "displacy.render(ethereum_ner, style='ent')"
   ]
  },
  {
   "cell_type": "code",
   "execution_count": null,
   "metadata": {},
   "outputs": [],
   "source": [
    "# List all Entities\n",
    "\n",
    "entities = []\n",
    "entities_text = []\n",
    "\n",
    "for ent in ethereum_ner.ents:\n",
    "    entities_text.append(ent.label_)\n",
    "    entities.append(ent.text)\n",
    "\n",
    "ethereum_entities = pd.DataFrame([entities, entities_text]).T\n",
    "ethereum_entities.columns = ['Word', 'Entities']\n",
    "ethereum_entities"
   ]
  },
  {
   "cell_type": "markdown",
   "metadata": {},
   "source": [
    "---"
   ]
  }
 ],
 "metadata": {
  "file_extension": ".py",
  "interpreter": {
   "hash": "79b0c1d1a3451cbfbe10aaed92dd127de1c97f0e41811620c68d3ed7d73759c3"
  },
  "kernelspec": {
   "display_name": "Python 3.7.11 ('dev')",
   "language": "python",
   "name": "python3"
  },
  "language_info": {
   "codemirror_mode": {
    "name": "ipython",
    "version": 3
   },
   "file_extension": ".py",
   "mimetype": "text/x-python",
   "name": "python",
   "nbconvert_exporter": "python",
   "pygments_lexer": "ipython3",
   "version": "3.7.11"
  },
  "mimetype": "text/x-python",
  "name": "python",
  "npconvert_exporter": "python",
  "pygments_lexer": "ipython3",
  "version": 3
 },
 "nbformat": 4,
 "nbformat_minor": 4
}
